{
 "cells": [
  {
   "cell_type": "code",
   "execution_count": 6,
   "metadata": {},
   "outputs": [],
   "source": [
    "import glob\n",
    "import json\n",
    "import random\n",
    "import csv\n",
    "import os"
   ]
  },
  {
   "cell_type": "code",
   "execution_count": 12,
   "metadata": {},
   "outputs": [],
   "source": [
    "def sample(verticals, output_path, train=True):\n",
    "    base_dir = \"/home/akash/Downloads/Major_Project\"\n",
    "    meta_dir = os.path.join(base_dir, \"meta\", \"json\")\n",
    "    base_image_dir = os.path.join(base_dir, \"structured_images\")\n",
    "    number_of_n = 100\n",
    "    prefix = \"train\" if train else \"test\"\n",
    "    for vertical in verticals:\n",
    "        filename = prefix + \"_pairs_\" + vertical + \".json\"\n",
    "        retrieval_path = os.path.join(meta_dir, \"retrieval_\" + vertical + \".json\")\n",
    "        image_dir = os.path.join(base_image_dir, vertical)\n",
    "        query_dir = os.path.join(base_image_dir, \"wtbi_\" + vertical + \"_query_crop\")\n",
    "        with open(os.path.join(meta_dir, filename)) as jsonFile:\n",
    "            pairs = json.load(jsonFile)\n",
    "        photo_to_product_map = {}\n",
    "        with open(retrieval_path) as jsonFile:\n",
    "            data = json.load(jsonFile)\n",
    "        for info in data:\n",
    "            photo_to_product_map[info[\"photo\"]] = info[\"product\"]\n",
    "        product_to_photo_map = {}\n",
    "        for photo in photo_to_product_map:\n",
    "            product = photo_to_product_map[photo]\n",
    "            if product not in product_to_photo_map:\n",
    "                product_to_photo_map[product] = set()\n",
    "            product_to_photo_map[product].add(photo)\n",
    "        universe = [int(os.path.splitext(os.path.basename(x))[0]) for x in\n",
    "                    glob.glob(image_dir + \"/*.jpeg\")]\n",
    "        #universe = universe1 + universe2 + universe3\n",
    "        print(len(universe))\n",
    "        print(universe)\n",
    "        for pair in pairs:\n",
    "            photo = pair[\"photo\"]\n",
    "            product = pair[\"product\"]\n",
    "            p_s = []\n",
    "            for i in product_to_photo_map[product]:\n",
    "                p_s.append(i)\n",
    "            triplets = []\n",
    "            for p in p_s:\n",
    "                for j in range(number_of_n):\n",
    "                    q_id = str(photo)\n",
    "                    p_id = str(p)\n",
    "                    n_index = random.randint(0, len(universe) - 1)\n",
    "                    n = universe[n_index]\n",
    "                    if n not in p_s and n!=photo:\n",
    "                        n_id = str(n)\n",
    "                        triplets.append([q_id, p_id, n_id, vertical])\n",
    "                with open(output_path, \"a\") as csvFile:\n",
    "                    writer = csv.writer(csvFile)\n",
    "                    triplets = [[os.path.join(query_dir, x[0].zfill(9) + \".jpeg\"), os.path.join(image_dir, x[1].zfill(9) + \".jpeg\"),\n",
    "                             os.path.join(image_dir, x[2].zfill(9) + \".jpeg\"), x[3]] for x in triplets]\n",
    "                    writer.writerows(triplets)\n",
    "                    triplets = []"
   ]
  },
  {
   "cell_type": "code",
   "execution_count": 13,
   "metadata": {},
   "outputs": [
    {
     "name": "stdout",
     "output_type": "stream",
     "text": [
      "346\n",
      "[367534, 367148, 367389, 367634, 367166, 367600, 367205, 367114, 367495, 367564, 367033, 116890, 326323, 367511, 367571, 367287, 367437, 367500, 367416, 367363, 367008, 367406, 100916, 367333, 367595, 367178, 367464, 367535, 367308, 101332, 367676, 367046, 161290, 367530, 367507, 367690, 367693, 367477, 367798, 367496, 367244, 367341, 367552, 367612, 326101, 367405, 367180, 367377, 367791, 367459, 367472, 367221, 161797, 367351, 367554, 367109, 367191, 306565, 367656, 367922, 367412, 367354, 367361, 367543, 367461, 367628, 101196, 367326, 367550, 367489, 367387, 367509, 367777, 115577, 367687, 367517, 367007, 367597, 367390, 367688, 367466, 423619, 367754, 367797, 161788, 367498, 367520, 367794, 161389, 367099, 367286, 367523, 364596, 367268, 367468, 367356, 367376, 367494, 367691, 367296, 367304, 161534, 367539, 367189, 367100, 367485, 306513, 367269, 367067, 367306, 116305, 102676, 367248, 421689, 367846, 367501, 367232, 367315, 367599, 367323, 367314, 367380, 367473, 367338, 367293, 367408, 367362, 367454, 161315, 367295, 367546, 367342, 161821, 367480, 367353, 367352, 366968, 306561, 367187, 306600, 367396, 367322, 367139, 161750, 367252, 367192, 367285, 367388, 367526, 367614, 367580, 367378, 367345, 367111, 116340, 367636, 367321, 367733, 367502, 114173, 367367, 108543, 367633, 367560, 367190, 367202, 367490, 367170, 367305, 367260, 367536, 367298, 367621, 367279, 161460, 367374, 367428, 20691, 116202, 367444, 161727, 367357, 367551, 367297, 306060, 367065, 367596, 367355, 116688, 367443, 367545, 367211, 336622, 367602, 367110, 367224, 20690, 367741, 367399, 367276, 367430, 367364, 367900, 367417, 367116, 367666, 367803, 20693, 367544, 367400, 367817, 367603, 367562, 367657, 367274, 116152, 367217, 367475, 367455, 367456, 367373, 101001, 367317, 367474, 367131, 367505, 367270, 367577, 115613, 367457, 367776, 367339, 367325, 367310, 367084, 101006, 367213, 367241, 163136, 367385, 367238, 367483, 367592, 367557, 367112, 367328, 367223, 101458, 367196, 367433, 367558, 367398, 367527, 367215, 367749, 367048, 367450, 367608, 367340, 367233, 367714, 367119, 367392, 367330, 367751, 367382, 367358, 367451, 367631, 367627, 367725, 367504, 367467, 101226, 367068, 367441, 367434, 367555, 367195, 367288, 367426, 367243, 367482, 20692, 367370, 367790, 423628, 367403, 367436, 367271, 367601, 367368, 367659, 367488, 367078, 367760, 367214, 101339, 114117, 367615, 367565, 367407, 367331, 367201, 101000, 367234, 367411, 367446, 367294, 367350, 367284, 326307, 367479, 367729, 367204, 367712, 367506, 367425, 367346, 116564, 367549, 367630, 367206, 367161, 367107, 367566, 367510, 101338, 367453, 367619, 367542, 367394, 367531, 367512, 367194, 367404, 367247, 306562, 367259, 367561, 367332, 367576, 367329, 367508, 367371, 367095]\n"
     ]
    }
   ],
   "source": [
    "sample([\"belts\"], \"/home/akash/Downloads/Major_Project/triplet.csv\")"
   ]
  },
  {
   "cell_type": "code",
   "execution_count": 5,
   "metadata": {},
   "outputs": [
    {
     "ename": "NameError",
     "evalue": "name 'x' is not defined",
     "output_type": "error",
     "traceback": [
      "\u001b[0;31m---------------------------------------------------------------------------\u001b[0m",
      "\u001b[0;31mNameError\u001b[0m                                 Traceback (most recent call last)",
      "\u001b[0;32m<ipython-input-5-9801da19b43b>\u001b[0m in \u001b[0;36m<module>\u001b[0;34m\u001b[0m\n\u001b[0;32m----> 1\u001b[0;31m \u001b[0mos\u001b[0m\u001b[0;34m.\u001b[0m\u001b[0mpath\u001b[0m\u001b[0;34m.\u001b[0m\u001b[0msplitext\u001b[0m\u001b[0;34m(\u001b[0m\u001b[0mos\u001b[0m\u001b[0;34m.\u001b[0m\u001b[0mpath\u001b[0m\u001b[0;34m.\u001b[0m\u001b[0mbasename\u001b[0m\u001b[0;34m(\u001b[0m\u001b[0mx\u001b[0m\u001b[0;34m)\u001b[0m\u001b[0;34m)\u001b[0m\u001b[0;34m\u001b[0m\u001b[0;34m\u001b[0m\u001b[0m\n\u001b[0m",
      "\u001b[0;31mNameError\u001b[0m: name 'x' is not defined"
     ]
    }
   ],
   "source": [
    "universe = [int(os.path.splitext(os.path.basename(x))[0])"
   ]
  },
  {
   "cell_type": "code",
   "execution_count": 5,
   "metadata": {},
   "outputs": [
    {
     "name": "stdout",
     "output_type": "stream",
     "text": [
      "19578\n"
     ]
    }
   ],
   "source": [
    "#os.path.basename[\"/home/akash/Downloads/Major_Project/structured_images/bags/000019578.jpeg\"][0]\n",
    "print(int(os.path.splitext(os.path.basename(\"/home/akash/Downloads/Major_Project/structured_images/bags/000019578.jpeg\"))[0]))"
   ]
  },
  {
   "cell_type": "code",
   "execution_count": null,
   "metadata": {},
   "outputs": [],
   "source": []
  }
 ],
 "metadata": {
  "kernelspec": {
   "display_name": "Python 3",
   "language": "python",
   "name": "python3"
  },
  "language_info": {
   "codemirror_mode": {
    "name": "ipython",
    "version": 3
   },
   "file_extension": ".py",
   "mimetype": "text/x-python",
   "name": "python",
   "nbconvert_exporter": "python",
   "pygments_lexer": "ipython3",
   "version": "3.6.9"
  }
 },
 "nbformat": 4,
 "nbformat_minor": 4
}
