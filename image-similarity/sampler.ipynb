{
 "cells": [
  {
   "cell_type": "code",
   "execution_count": 45,
   "metadata": {},
   "outputs": [],
   "source": [
    "import glob\n",
    "import json\n",
    "import random\n",
    "import csv\n",
    "import os"
   ]
  },
  {
   "cell_type": "code",
   "execution_count": 50,
   "metadata": {},
   "outputs": [],
   "source": [
    "def sample(verticals, output_path, train=True):\n",
    "    base_dir = \"/home/akash/Downloads/Major_Project\"\n",
    "    meta_dir = os.path.join(base_dir, \"meta\", \"json\")\n",
    "    base_image_dir = os.path.join(base_dir, \"structured_images\")\n",
    "    number_of_n = 100\n",
    "    prefix = \"train\" if train else \"test\"\n",
    "    for vertical in verticals:\n",
    "        filename = prefix + \"_pairs_\" + vertical + \".json\"\n",
    "        retrieval_path = os.path.join(meta_dir, \"retrieval_\" + vertical + \".json\")\n",
    "        image_dir = os.path.join(base_image_dir, vertical + \"_256\")\n",
    "        query_dir = os.path.join(base_image_dir, \"wtbi_\" + vertical + \"_query_crop_256\")\n",
    "        with open(os.path.join(meta_dir, filename)) as jsonFile:\n",
    "            pairs = json.load(jsonFile)\n",
    "        photo_to_product_map = {}\n",
    "        with open(retrieval_path) as jsonFile:\n",
    "            data = json.load(jsonFile)\n",
    "        for info in data:\n",
    "            photo_to_product_map[info[\"photo\"]] = info[\"product\"]\n",
    "        product_to_photo_map = {}\n",
    "        for photo in photo_to_product_map:\n",
    "            product = photo_to_product_map[photo]\n",
    "            if product not in product_to_photo_map:\n",
    "                product_to_photo_map[product] = set()\n",
    "            product_to_photo_map[product].add(photo)\n",
    "        universe = [int(os.path.splitext(os.path.basename(x))[0]) for x in\n",
    "                    glob.glob(image_dir + \"/*.jpeg\")]\n",
    "        #universe = universe1 + universe2 + universe3\n",
    "        #print(len(universe))\n",
    "        #print(universe)\n",
    "        for pair in pairs:\n",
    "            photo = pair[\"photo\"]\n",
    "            product = pair[\"product\"]\n",
    "            p_s = []\n",
    "            for i in product_to_photo_map[product]:\n",
    "                p_s.append(i)\n",
    "            triplets = []\n",
    "            for p in p_s:\n",
    "                for j in range(number_of_n):\n",
    "                    q_id = str(photo)\n",
    "                    p_id = str(p)\n",
    "                    n_index = random.randint(0, len(universe) - 1)\n",
    "                    n = universe[n_index]\n",
    "                    if n not in p_s and n!=photo:\n",
    "                        n_id = str(n)\n",
    "                        triplets.append([q_id, p_id, n_id, vertical])\n",
    "                with open(output_path, \"a\") as csvFile:\n",
    "                    writer = csv.writer(csvFile)\n",
    "                    triplets = [[os.path.join(query_dir, x[0].zfill(9) + \".jpeg\"), os.path.join(image_dir, x[1].zfill(9) + \".jpeg\"),\n",
    "                             os.path.join(image_dir, x[2].zfill(9) + \".jpeg\"), x[3]] for x in triplets]\n",
    "                    writer.writerows(triplets)\n",
    "                    triplets = []"
   ]
  },
  {
   "cell_type": "code",
   "execution_count": 51,
   "metadata": {},
   "outputs": [],
   "source": [
    "sample([\"pants\"], \"/home/akash/Downloads/Major_Project/triplet.csv\")"
   ]
  },
  {
   "cell_type": "code",
   "execution_count": 39,
   "metadata": {},
   "outputs": [
    {
     "ename": "SyntaxError",
     "evalue": "unexpected EOF while parsing (<ipython-input-39-8a89e6de69d8>, line 1)",
     "output_type": "error",
     "traceback": [
      "\u001b[0;36m  File \u001b[0;32m\"<ipython-input-39-8a89e6de69d8>\"\u001b[0;36m, line \u001b[0;32m1\u001b[0m\n\u001b[0;31m    universe = [int(os.path.splitext(os.path.basename(x))[0])\u001b[0m\n\u001b[0m                                                             ^\u001b[0m\n\u001b[0;31mSyntaxError\u001b[0m\u001b[0;31m:\u001b[0m unexpected EOF while parsing\n"
     ]
    }
   ],
   "source": [
    "universe = [int(os.path.splitext(os.path.basename(x))[0])"
   ]
  },
  {
   "cell_type": "code",
   "execution_count": 40,
   "metadata": {},
   "outputs": [
    {
     "name": "stdout",
     "output_type": "stream",
     "text": [
      "19578\n"
     ]
    }
   ],
   "source": [
    "#os.path.basename[\"/home/akash/Downloads/Major_Project/structured_images/bags/000019578.jpeg\"][0]\n",
    "print(int(os.path.splitext(os.path.basename(\"/home/akash/Downloads/Major_Project/structured_images/bags/000019578.jpeg\"))[0]))"
   ]
  },
  {
   "cell_type": "code",
   "execution_count": null,
   "metadata": {},
   "outputs": [],
   "source": []
  }
 ],
 "metadata": {
  "kernelspec": {
   "display_name": "Python 3",
   "language": "python",
   "name": "python3"
  },
  "language_info": {
   "codemirror_mode": {
    "name": "ipython",
    "version": 3
   },
   "file_extension": ".py",
   "mimetype": "text/x-python",
   "name": "python",
   "nbconvert_exporter": "python",
   "pygments_lexer": "ipython3",
   "version": "3.6.9"
  }
 },
 "nbformat": 4,
 "nbformat_minor": 4
}
