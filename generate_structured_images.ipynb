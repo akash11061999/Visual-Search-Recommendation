{
 "cells": [
  {
   "cell_type": "code",
   "execution_count": 1,
   "metadata": {},
   "outputs": [],
   "source": [
    "import glob\n",
    "import json\n",
    "import os"
   ]
  },
  {
   "cell_type": "code",
   "execution_count": 2,
   "metadata": {},
   "outputs": [],
   "source": [
    "base_dir = \"/home/akash/Downloads/Major_Project\"\n",
    "meta_dir = os.path.join(base_dir, \"meta\", \"json\")\n",
    "image_dir = os.path.join(base_dir, \"dataset\")\n",
    "structured_dir = os.path.join(base_dir, \"new\")\n",
    "all_pair_file_paths = glob.glob(meta_dir + \"/retrieval_*.json\")"
   ]
  },
  {
   "cell_type": "code",
   "execution_count": 8,
   "metadata": {},
   "outputs": [
    {
     "name": "stdout",
     "output_type": "stream",
     "text": [
      "leggings\n",
      "Symlinking catalog ids for %s leggings 8219\n",
      "Symlinking query ids for %s leggings 1442\n",
      "tops\n",
      "Symlinking catalog ids for %s tops 68418\n",
      "Symlinking query ids for %s tops 2639\n",
      "skirts\n",
      "Symlinking catalog ids for %s skirts 18281\n",
      "Symlinking query ids for %s skirts 2058\n",
      "belts\n",
      "Symlinking catalog ids for %s belts 1252\n",
      "Symlinking query ids for %s belts 300\n",
      "footwear\n",
      "Symlinking catalog ids for %s footwear 75836\n",
      "Symlinking query ids for %s footwear 4969\n",
      "outerwear\n",
      "Symlinking catalog ids for %s outerwear 34695\n",
      "Symlinking query ids for %s outerwear 2389\n",
      "hats\n",
      "Symlinking catalog ids for %s hats 2551\n",
      "Symlinking query ids for %s hats 256\n",
      "dresses\n",
      "Symlinking catalog ids for %s dresses 169733\n",
      "Symlinking query ids for %s dresses 12273\n",
      "pants\n",
      "Symlinking catalog ids for %s pants 7640\n",
      "Symlinking query ids for %s pants 469\n",
      "eyewear\n",
      "Symlinking catalog ids for %s eyewear 1595\n",
      "Symlinking query ids for %s eyewear 455\n",
      "bags\n",
      "Symlinking catalog ids for %s bags 16308\n",
      "Symlinking query ids for %s bags 707\n",
      "82577\n",
      "CPU times: user 5.68 s, sys: 3.8 s, total: 9.49 s\n",
      "Wall time: 11 s\n"
     ]
    }
   ],
   "source": [
    "%%time\n",
    "#Modified\n",
    "\n",
    "failed=[]\n",
    "count=0\n",
    "counter=0\n",
    "for path in all_pair_file_paths:\n",
    "    vertical = path.split(\"_\")[-1].split(\".\")[0]\n",
    "    print(vertical)\n",
    "    query_dir = os.path.join(structured_dir, vertical+\"_query\")\n",
    "    if not os.path.exists(query_dir):\n",
    "        os.mkdir(query_dir)\n",
    "    catalog_dir = os.path.join(structured_dir, vertical)\n",
    "    if not os.path.exists(catalog_dir):\n",
    "        os.mkdir(catalog_dir)\n",
    "    with open(path) as jsonFile:\n",
    "        data = json.load(jsonFile)\n",
    "    product_ids = set()\n",
    "    for item in data:\n",
    "        product_ids.add(str(item[\"photo\"]).zfill(9))\n",
    "    print(\"Symlinking catalog ids for %s\", vertical, len(product_ids))\n",
    "    for product_id in product_ids:\n",
    "        flag = False\n",
    "        try:\n",
    "            for extension in [\".jpeg\", \".png\", \".jpg\"]:\n",
    "                img_path = os.path.join(image_dir, product_id + extension)\n",
    "                dst_path = os.path.join(catalog_dir, product_id + extension)\n",
    "                if os.path.exists(img_path):\n",
    "                    counter+=1\n",
    "                    #print(img_path)\n",
    "                    os.symlink(img_path, dst_path)\n",
    "                    flag = True\n",
    "                    break\n",
    "            if not flag:\n",
    "                failed.append(product_id)\n",
    "        except:\n",
    "            continue\n",
    "            \n",
    "            \n",
    "    query_ids = set()\n",
    "    for partition in [\"train\", \"test\"]:\n",
    "        partition_file = partition+\"_pairs_\"+vertical+\".json\"\n",
    "        with open(os.path.join(meta_dir, partition_file)) as jsonFile:\n",
    "            pairs = json.load(jsonFile)\n",
    "        for pair in pairs:\n",
    "            query_ids.add(str(pair[\"photo\"]).zfill(9))\n",
    "    print(\"Symlinking query ids for %s\", vertical, len(query_ids))\n",
    "    for query_id in query_ids:\n",
    "        flag = False\n",
    "        for extension in [\".jpeg\", \".png\", \".jpg\"]:\n",
    "            img_path = os.path.join(image_dir, query_id + extension)\n",
    "            dst_path = os.path.join(query_dir, query_id + extension)\n",
    "            if os.path.exists(img_path):\n",
    "                counter+=1\n",
    "                #print(img_path)\n",
    "                os.symlink(img_path, dst_path)\n",
    "                flag = True\n",
    "                break\n",
    "        if not flag:\n",
    "            failed.append(query_id)\n",
    "    count+=1\n",
    "print(counter)"
   ]
  },
  {
   "cell_type": "code",
   "execution_count": null,
   "metadata": {},
   "outputs": [],
   "source": []
  }
 ],
 "metadata": {
  "kernelspec": {
   "display_name": "Python 3",
   "language": "python",
   "name": "python3"
  },
  "language_info": {
   "codemirror_mode": {
    "name": "ipython",
    "version": 3
   },
   "file_extension": ".py",
   "mimetype": "text/x-python",
   "name": "python",
   "nbconvert_exporter": "python",
   "pygments_lexer": "ipython3",
   "version": "3.6.9"
  }
 },
 "nbformat": 4,
 "nbformat_minor": 4
}
